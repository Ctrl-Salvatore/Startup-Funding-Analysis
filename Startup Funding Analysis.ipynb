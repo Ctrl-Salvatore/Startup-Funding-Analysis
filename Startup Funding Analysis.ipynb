{
 "cells": [
  {
   "cell_type": "markdown",
   "id": "2b04dd95-2ffb-4fa1-b4b2-091647abb161",
   "metadata": {},
   "source": [
    "# Startup_funding analysis"
   ]
  },
  {
   "cell_type": "markdown",
   "id": "8533aced",
   "metadata": {},
   "source": [
    "### 1. Data Cleaning"
   ]
  },
  {
   "cell_type": "markdown",
   "id": "b197f446-530c-41ee-b11f-57900dfa6fae",
   "metadata": {
    "tags": []
   },
   "source": [
    "\n",
    "In this exercise, I work with a datasets containing information on indian startups' funding, including the startup's details, the funding it received, and the investors' information. \n",
    "\n",
    "In the `data` folder, you will find the following three datasets, including data from 2019, 2020 and 2021: \n",
    "\n",
    "- `startup_funding2019.csv`\n",
    "- `startup_funding2020.csv`\n",
    "- `startup_funding2021.csv`\n",
    "\n",
    "At [this link](https://www.kaggle.com/datasets/omkargowda/indian-startups-funding-data?select=startup_funding2019.csv) you can find the source of the original data (Kaggle) as well as more information on its composition"
   ]
  },
  {
   "cell_type": "code",
   "execution_count": 3,
   "id": "bc33ae45",
   "metadata": {},
   "outputs": [],
   "source": [
    "import numpy as np\n",
    "import pandas as pd\n",
    "from sklearn.experimental import enable_iterative_imputer\n",
    "from sklearn.impute import IterativeImputer\n",
    "import os\n",
    "import seaborn as sns\n",
    "import requests\n",
    "from bs4 import BeautifulSoup"
   ]
  },
  {
   "cell_type": "markdown",
   "id": "9528671c-2443-4008-9872-ef76288bab5b",
   "metadata": {},
   "source": [
    "First of all, we use a **for loop** to load all three .csv files in a temporary DataFrame called `df_tmp` and, at each cycle, we add a new column named `Year` that includes the year of that csv file to the temporary table and append it to a final DataFrame named `fnd`. "
   ]
  },
  {
   "cell_type": "code",
   "execution_count": 6,
   "id": "95b7ed33-a7c7-4309-bfba-d07958820fb9",
   "metadata": {},
   "outputs": [
    {
     "data": {
      "text/plain": [
       "(2343, 10)"
      ]
     },
     "execution_count": 6,
     "metadata": {},
     "output_type": "execute_result"
    }
   ],
   "source": [
    "#Starting an empty Data Frame\n",
    "fnd = pd.DataFrame([])\n",
    "#Save all the files in a list\n",
    "files = os.listdir(\"Data/\")\n",
    "#For Loop and Concat9\n",
    "for file in files:\n",
    "    if file.startswith('startup'):\n",
    "       df_tmp = pd.read_csv(\"Data/\"+file)\n",
    "       year = file[-8:-4]\n",
    "       df_tmp[\"year\"] = year\n",
    "       fnd = pd.concat([fnd, df_tmp])\n",
    "# index again to avoid duplicates\n",
    "fnd.index = pd.RangeIndex(len(fnd.index))\n",
    "# check the shape of the file\n",
    "fnd.shape\n"
   ]
  },
  {
   "cell_type": "markdown",
   "id": "1740ef37-e478-4d67-ac20-375b652cbcf0",
   "metadata": {},
   "source": [
    "Let's familiarize with the dataframe."
   ]
  },
  {
   "cell_type": "code",
   "execution_count": 7,
   "id": "839955c1-8c75-4448-9b34-cb51328b2137",
   "metadata": {},
   "outputs": [
    {
     "name": "stdout",
     "output_type": "stream",
     "text": [
      "<class 'pandas.core.frame.DataFrame'>\n",
      "RangeIndex: 2343 entries, 0 to 2342\n",
      "Data columns (total 10 columns):\n",
      " #   Column         Non-Null Count  Dtype \n",
      "---  ------         --------------  ----- \n",
      " 0   Company/Brand  2343 non-null   object\n",
      " 1   Founded        2102 non-null   object\n",
      " 2   HeadQuarter    2228 non-null   object\n",
      " 3   Sector         2325 non-null   object\n",
      " 4   What it does   2343 non-null   object\n",
      " 5   Founders       2324 non-null   object\n",
      " 6   Investor       2243 non-null   object\n",
      " 7   Amount($)      2211 non-null   object\n",
      " 8   Stage          1220 non-null   object\n",
      " 9   year           2343 non-null   object\n",
      "dtypes: object(10)\n",
      "memory usage: 183.2+ KB\n"
     ]
    }
   ],
   "source": [
    "fnd.info()"
   ]
  },
  {
   "cell_type": "markdown",
   "id": "8531cbca",
   "metadata": {},
   "source": [
    "As we can see, some columns have wrong data type, *year* and *Amount($)* are seen as Object"
   ]
  },
  {
   "cell_type": "code",
   "execution_count": 8,
   "id": "aa5e5359",
   "metadata": {},
   "outputs": [
    {
     "data": {
      "text/plain": [
       "array(['$6,300,000', '$150,000,000', '$28,000,000', '$30,000,000',\n",
       "       '$6,000,000', 'Undisclosed', '$1,000,000', '$20,000,000',\n",
       "       '$275,000,000', '$22,000,000', '$5,000,000', '$140,500',\n",
       "       '$540,000,000', '$15,000,000', '$182,700', '$12,000,000',\n",
       "       '$11,000,000', '$15,500,000', '$1,500,000', '$5,500,000',\n",
       "       '$2,500,000', '$140,000', '$230,000,000', '$49,400,000',\n",
       "       '$32,000,000', '$26,000,000', '$150,000', '$400,000', '$2,000,000',\n",
       "       '$100,000,000', '$8,000,000', '$100,000', '$50,000,000',\n",
       "       '$120,000,000', '$4,000,000', '$6,800,000', '$36,000,000',\n",
       "       '$5,700,000', '$25,000,000', '$600,000', '$70,000,000',\n",
       "       '$60,000,000', '$220,000', '$2,800,000', '$2,100,000',\n",
       "       '$7,000,000', '$311,000,000', '$4,800,000', '$693,000,000',\n",
       "       '$33,000,000', '$200,000', '$340,000', '$45,000,000', '$1,200,000',\n",
       "       '$660,000,000', '$120,000', '$7,500,000', '$500,000', '$3,000,000',\n",
       "       '$10,000,000', '$145,000,000', '$21,000,000', '$560,000',\n",
       "       '$275,000', '$4,500,000', '$390,000,000', '$5,100,000',\n",
       "       '$700,000,000', '$2,300,000', '$700,000', '$19,000,000',\n",
       "       '$9,000,000', '$40,000,000', '$750,000', '$7,800,000',\n",
       "       '$80,000,000', '$1,700,000', '$40,000', '$35,000,000', '$300,000',\n",
       "       '$3,500,000', '$200,000,000', '$1,300,000', '$4,100,000',\n",
       "       '$575,000', '$800,000', '$18,000,000', '$3,200,000', '$900,000',\n",
       "       '$250,000', '$4,700,000', '$75,000,000', '$121,000,000',\n",
       "       '$55,000,000', '$3,300,000', '$16,000,000', '$5,400,000',\n",
       "       '$4,200,000', '$52,000,000', '$1,100,000', '$118,000,000',\n",
       "       '$1,600,000', '$18,500,000', '$70,000,000,000', '$800,000,000',\n",
       "       '$400,000,000', '$176,000,000', '$470,000', '$240,000',\n",
       "       '$3,000,000,000', '$74,000,000', '$62,000,000', '$500,000,000',\n",
       "       '$12,500,000', '$2,200,000,000', '$5,060,000', '$225,000,000',\n",
       "       '$24,700,000', '$7,700,000', '$1,90,67,328', '$51,000,000',\n",
       "       '$115,000', '$54,000', '$20,000', '$803,146', '$238,000',\n",
       "       '$10,220,000', '$1,020,000', '$13,400,000', '$170,000,000',\n",
       "       '$2,900,000', '$543,000', '$90,000,000', '$3,400,000',\n",
       "       '$23,000,000', '$8,090,000', '$1,030,000', '$5,040,000',\n",
       "       '$360,000', '$1,400,000', '$650,000', '$54,000,000', '$42,500,000',\n",
       "       '$11,370,000', '$325,000', '$410,000', '$450,000', '$682,000',\n",
       "       '$4,050,000', '$1,050,000', '$1,080,000', '$4,300,000',\n",
       "       '$2,110,000', '$887,000', '$764,000', '$603,000', '$409,000',\n",
       "       '$292,000', '$286,000', '$136,000', '$546,000', '$43,000',\n",
       "       '$40,900', '$2,200,000', '$5,660,000', '$350,000', '$110,000',\n",
       "       '$122,000,000', '$11,635,000', '$1,065,000', '$669,000',\n",
       "       '$16,076,000', '$649,600', '$6,700,000', '$266,500', '$2,879,000',\n",
       "       '$26,500,000', '$351,000', '$ 8,700,000', '$46,761,000',\n",
       "       '$175,000', '9.600,000', '$11,241,000', '$804,000', '$1,340,000',\n",
       "       '$467,000', '$133,000', '$3,823,000', '$934,000', '$293,000',\n",
       "       '$198,000', '$927,000', '$971,000', '$3,060,000', '$1,862,000',\n",
       "       '$232,000', '$2,888,000', '$1,328,000', '$56,000,000',\n",
       "       '$2,250,000', '$16,753,000', '$3,700,000', '$1,470,000',\n",
       "       '$530,000', '$267,000', '$3,344,000', '$7,200,000', '$2,743,000',\n",
       "       '$6,082,000', '$6,609,000', '$27,700,000', '$5,940,000',\n",
       "       '$3,964,000', '$197,000', '$4,327,000', '$459,000', '$3,937,000',\n",
       "       '$1,313,500', '$229,800', '$5,305,000', '$264,000', '$1,750,000',\n",
       "       '$5,967,000', '$2,980,000', '$323,000', '$1,326,000',\n",
       "       '$27,000,000', '$5,200,000', '$2,530,000', '$792,000',\n",
       "       '$11,363,000', '$1,715,000', '$329,000', '$5,271,000',\n",
       "       '$8,700,000', '$3,226,000', '$5,900,000', '$44,000,000',\n",
       "       '$3,879,000', '$13,000,000', '$8,800,000', '$9,500,000',\n",
       "       '$920,000', '$35,600,000', '$9,400,000', '$790,000', '$480,000',\n",
       "       '$160,000', '$8,200,000', '$4,257,000', '$1,410,000', '$349,800',\n",
       "       '$786,000', '$2,004,000', '$123,000,000', '$248,000',\n",
       "       '$24,000,000', '$14,259,000', '$24,500,000', '$3,800,000',\n",
       "       '$18,370,000', '$68,525,000', '$1,834,000', '$23,850,000',\n",
       "       '$43,000,000', '$21,600,000', '$4,598,000', '$13,137,000',\n",
       "       '$115,000,000', '$3,900,000', '$670,000', '42.23,000',\n",
       "       '$8,500,000', '$3,148,000', '$2,600,000', '25,58,000',\n",
       "       '$4,049,500', '$10,500,000', '$6,500,000', '$43,700,000',\n",
       "       '$13,800,000', '$306,900', '$420,000', '$627,300', '$113,000,000',\n",
       "       '$110,000,000', '$1,397,000', '$448,500', '$7,975,700', '$330,000',\n",
       "       '$5,600,000', '$1,402,000', '$21,500,000', '$296,000,000',\n",
       "       '$4,900,000', '$1,402,400', '$12,618,300', '$9,900,000',\n",
       "       '$982,530', '$70,185,200', '$210,000,000', '$84,000,000',\n",
       "       '$39,000,000', '$2,700,000', '$1,403,400', '$105,000,000',\n",
       "       '$103,000,000', '$281,300', '$12,700', '$25,000', '$97,500,000',\n",
       "       '$507,000', '$8,400,000', '$18,300,000', '$125,000,000',\n",
       "       '$181,000', '$280,000', '$14,700,000', '$13,200,000', '$8,043,000',\n",
       "       '$188,000,000', '$49,000,000', '$160,000,000', '$1,800,000',\n",
       "       '$850,000', '$53,000,000', '$7,400,000', '$17,000,000',\n",
       "       '$215,000,000', '$350,000,000', '$83,000,000', '$65,000,000',\n",
       "       '$150,000,000,000', '$300,000,000', '$140,000,000', nan,\n",
       "       '$2000000', '$800000', '$6000000', '$2500000', '$9500000',\n",
       "       '$13000000', '$5000000', '$8000000', '$1000000', '$1200000',\n",
       "       '$200000', '$12000000', '$1500000', '$1700000', '$5500000',\n",
       "       '$400000', '$150000000', '$4000000', '$100000000', '$500000',\n",
       "       '$15000000', '$10000000', '$40000000', '$225000000', '$6700000',\n",
       "       '$1300000', '$20000000', '$250000', '$21000000', '$52000000',\n",
       "       '$3800000', '$17500000', '$42000000', '$2300000', '$7000000',\n",
       "       '$30000000', '$450000000', '$28000000', '$300000', '$3500000',\n",
       "       '$8500000', '$25000000', '$3000000', '$37000000', '$370000000',\n",
       "       '$700000', '$16000000', '$100000', '$44000000', '$770000',\n",
       "       '$125000000', '$35000000', '$50000000', '$4900000', '$145000000',\n",
       "       '$22000000', '$70000000', '$6600000', '$32000000', '$24000000',\n",
       "       '$725000', '$461000', '$96000000', '$60000000', '$500000000',\n",
       "       '$266000000', '$4500000', '$325000000', '$6500000', '$1600000',\n",
       "       '$225000', '$85000000', '$235000', '$260000', '$2900000',\n",
       "       '$53000000', '$1100000', '$150000', '$86000000', '$130000',\n",
       "       '$$100,00', '$111000000', '$265000', '$76000000', '$260,000',\n",
       "       '$1,000,000,000', '$95,000,000', '$14,300,000', '$81,000,000',\n",
       "       '$280,000,000', '$720,000', '$600000', '$9000000', '$1800000',\n",
       "       '$330000', '$200000000', '$36000000', '$67000000', '$10200000',\n",
       "       '$220000000', '$108000000', '$75000000', '$450000', '$660000000',\n",
       "       '$45000000', '$3200000', '$370000', '$65000000', '$5200000',\n",
       "       '$2600000', '$1,250,000', '$234,000,000', '$460,000,000',\n",
       "       '$13,500,000', '$195,000,000', '$125,000', '$7,300,000',\n",
       "       '$16,500,000', '$3300000', '$92000000', '$17000000', '$135000000',\n",
       "       '$$1,55,000', '$2100000', '$840000000', '$248000000', '$4300000',\n",
       "       '$570000', '$2200000', '$4700000', '$300000000', '$260000000',\n",
       "       '$140000000', '$175000000', '$19000000', '$810000', '$7500000',\n",
       "       '$600000000', '$90000000', '$250000000', '$11000000', '$5700000',\n",
       "       '$6750000', '$78000000', '$5400000', '$115000000', '$1900000',\n",
       "       '$255000000', '$18000000', '$48000000', '$570000000', '$550000',\n",
       "       '$2700000', '$4200000', '$31000000', '$540000', '$14000000',\n",
       "       '$340000', '$900000', '$6200000', '1000000', '$750000', '$6300000',\n",
       "       '$320000', '$23000000', '$55000000', '$26000000'], dtype=object)"
      ]
     },
     "execution_count": 8,
     "metadata": {},
     "output_type": "execute_result"
    }
   ],
   "source": [
    "#Checking the value that needs edit in \"Amount($)\"\n",
    "fnd[\"Amount($)\"].unique()\n"
   ]
  },
  {
   "cell_type": "code",
   "execution_count": 9,
   "id": "4d673781",
   "metadata": {},
   "outputs": [],
   "source": [
    "#We need to delete: \",\" and \"$\"\n",
    "fnd[\"Amount($)\"] = fnd[\"Amount($)\"].str.replace(',', '')\n",
    "fnd[\"Amount($)\"] = fnd[\"Amount($)\"].str.replace('$', '', regex=False)\n",
    "#We also utilize \"To_Numeric\" to transform every entry as numeric , using \"errors='coerce'\" al the non-numeric value (as \"Undisclosed\") are changed in \"NaN\"\n",
    "fnd[\"Amount($)\"] = pd.to_numeric(fnd[\"Amount($)\"], errors='coerce')"
   ]
  },
  {
   "cell_type": "code",
   "execution_count": 10,
   "id": "3c6d751a",
   "metadata": {},
   "outputs": [
    {
     "data": {
      "text/plain": [
       "array([nan, 2014.0, 2004.0, 2013.0, 2010.0, 2018.0, 2019.0, 2017.0,\n",
       "       2011.0, 2015.0, 2016.0, 2012.0, 2008.0, '2019', '2018', '2020',\n",
       "       '2016', '2008', '2015', '2017', '2014', '1998', '2007', '2011',\n",
       "       '1982', '2013', '2009', '2012', '1995', '2010', '2006', '1978',\n",
       "       '1999', '1994', '2005', '1973', '-', '2002', '2004', '2001', 2021,\n",
       "       2020, 1993, 1999, 1989, 2009, 2002, 1994, 2006, 2000, 2007, 1978,\n",
       "       2003, 1998, 1991, 1984, 2005, 1963], dtype=object)"
      ]
     },
     "execution_count": 10,
     "metadata": {},
     "output_type": "execute_result"
    }
   ],
   "source": [
    "#check value for \"Founded\"\n",
    "fnd[\"Founded\"].unique()"
   ]
  },
  {
   "cell_type": "code",
   "execution_count": 11,
   "id": "3520f644",
   "metadata": {},
   "outputs": [],
   "source": [
    "#We use the same method of before to change all the \"-\" in \"NaN\"\n",
    "fnd[\"Founded\"] = pd.to_numeric(fnd[\"Founded\"], errors='coerce')"
   ]
  },
  {
   "cell_type": "code",
   "execution_count": 12,
   "id": "9591c84f",
   "metadata": {},
   "outputs": [
    {
     "data": {
      "text/plain": [
       "array(['2019', '2020', '2021'], dtype=object)"
      ]
     },
     "execution_count": 12,
     "metadata": {},
     "output_type": "execute_result"
    }
   ],
   "source": [
    "#We already know the value of year, but let's check to see if there is any error\n",
    "fnd[\"year\"].unique()"
   ]
  },
  {
   "cell_type": "code",
   "execution_count": 13,
   "id": "a8fd7803",
   "metadata": {},
   "outputs": [],
   "source": [
    "#we can simply change the type\n",
    "fnd[\"year\"] = fnd[\"year\"].astype(int)"
   ]
  },
  {
   "cell_type": "code",
   "execution_count": 14,
   "id": "37fffb84",
   "metadata": {},
   "outputs": [
    {
     "name": "stdout",
     "output_type": "stream",
     "text": [
      "<class 'pandas.core.frame.DataFrame'>\n",
      "RangeIndex: 2343 entries, 0 to 2342\n",
      "Data columns (total 10 columns):\n",
      " #   Column         Non-Null Count  Dtype  \n",
      "---  ------         --------------  -----  \n",
      " 0   Company/Brand  2343 non-null   object \n",
      " 1   Founded        2101 non-null   float64\n",
      " 2   HeadQuarter    2228 non-null   object \n",
      " 3   Sector         2325 non-null   object \n",
      " 4   What it does   2343 non-null   object \n",
      " 5   Founders       2324 non-null   object \n",
      " 6   Investor       2243 non-null   object \n",
      " 7   Amount($)      1842 non-null   float64\n",
      " 8   Stage          1220 non-null   object \n",
      " 9   year           2343 non-null   int32  \n",
      "dtypes: float64(2), int32(1), object(7)\n",
      "memory usage: 174.0+ KB\n"
     ]
    }
   ],
   "source": [
    "\n",
    "fnd.info()"
   ]
  },
  {
   "cell_type": "markdown",
   "id": "5c29b022",
   "metadata": {},
   "source": [
    "### 2. Data Analysis"
   ]
  },
  {
   "cell_type": "markdown",
   "id": "65cd9537-3d28-4361-a8db-8be41843e801",
   "metadata": {},
   "source": [
    "Now that the dataframe is clean, let's start to explore the data, first of all we can check who is the *investor* that funded the highest numer of *Company/Brand*'s overall\n",
    "\n",
    "    "
   ]
  },
  {
   "cell_type": "code",
   "execution_count": 734,
   "id": "28c4329f-45da-4220-b871-4535ee010fde",
   "metadata": {},
   "outputs": [
    {
     "data": {
      "text/html": [
       "<div>\n",
       "<style scoped>\n",
       "    .dataframe tbody tr th:only-of-type {\n",
       "        vertical-align: middle;\n",
       "    }\n",
       "\n",
       "    .dataframe tbody tr th {\n",
       "        vertical-align: top;\n",
       "    }\n",
       "\n",
       "    .dataframe thead th {\n",
       "        text-align: right;\n",
       "    }\n",
       "</style>\n",
       "<table border=\"1\" class=\"dataframe\">\n",
       "  <thead>\n",
       "    <tr style=\"text-align: right;\">\n",
       "      <th></th>\n",
       "      <th>Investor</th>\n",
       "      <th>size</th>\n",
       "    </tr>\n",
       "  </thead>\n",
       "  <tbody>\n",
       "    <tr>\n",
       "      <th>696</th>\n",
       "      <td>Inflection Point Ventures</td>\n",
       "      <td>36</td>\n",
       "    </tr>\n",
       "  </tbody>\n",
       "</table>\n",
       "</div>"
      ],
      "text/plain": [
       "                      Investor  size\n",
       "696  Inflection Point Ventures    36"
      ]
     },
     "execution_count": 734,
     "metadata": {},
     "output_type": "execute_result"
    }
   ],
   "source": [
    "# run this cell (don not delete it)\n",
    "fnd.groupby('Investor', as_index=False).size().sort_values('size', ascending=False).head(1)"
   ]
  },
  {
   "cell_type": "markdown",
   "id": "e328d03c",
   "metadata": {},
   "source": [
    "I want also to check how \"Inflection Point Ventures\" **rank** (in terms of most *Company/Brand*'s funded) **in 2020**"
   ]
  },
  {
   "cell_type": "code",
   "execution_count": 15,
   "id": "6c77666b-4ef9-4df7-a83f-a4231bc9726f",
   "metadata": {},
   "outputs": [],
   "source": [
    "#creating a filtered df\n",
    "fnd_2020 = fnd[fnd['year'] == 2020]\n",
    "#groupby investor and sorting\n",
    "fnd_2020 = fnd_2020.groupby(\"Investor\", as_index=False).size().sort_values('size', ascending=False).reset_index(drop=True)"
   ]
  },
  {
   "cell_type": "code",
   "execution_count": 16,
   "id": "f90e2a0a",
   "metadata": {},
   "outputs": [
    {
     "data": {
      "text/html": [
       "<div>\n",
       "<style scoped>\n",
       "    .dataframe tbody tr th:only-of-type {\n",
       "        vertical-align: middle;\n",
       "    }\n",
       "\n",
       "    .dataframe tbody tr th {\n",
       "        vertical-align: top;\n",
       "    }\n",
       "\n",
       "    .dataframe thead th {\n",
       "        text-align: right;\n",
       "    }\n",
       "</style>\n",
       "<table border=\"1\" class=\"dataframe\">\n",
       "  <thead>\n",
       "    <tr style=\"text-align: right;\">\n",
       "      <th></th>\n",
       "      <th>Investor</th>\n",
       "      <th>size</th>\n",
       "      <th>rank</th>\n",
       "    </tr>\n",
       "  </thead>\n",
       "  <tbody>\n",
       "    <tr>\n",
       "      <th>0</th>\n",
       "      <td>Venture Catalysts</td>\n",
       "      <td>20</td>\n",
       "      <td>1</td>\n",
       "    </tr>\n",
       "    <tr>\n",
       "      <th>1</th>\n",
       "      <td>Mumbai Angels Network</td>\n",
       "      <td>12</td>\n",
       "      <td>2</td>\n",
       "    </tr>\n",
       "    <tr>\n",
       "      <th>2</th>\n",
       "      <td>Angel investors</td>\n",
       "      <td>12</td>\n",
       "      <td>3</td>\n",
       "    </tr>\n",
       "    <tr>\n",
       "      <th>3</th>\n",
       "      <td>Inflection Point Ventures</td>\n",
       "      <td>11</td>\n",
       "      <td>4</td>\n",
       "    </tr>\n",
       "    <tr>\n",
       "      <th>4</th>\n",
       "      <td>Undisclosed</td>\n",
       "      <td>10</td>\n",
       "      <td>5</td>\n",
       "    </tr>\n",
       "  </tbody>\n",
       "</table>\n",
       "</div>"
      ],
      "text/plain": [
       "                    Investor  size  rank\n",
       "0          Venture Catalysts    20     1\n",
       "1      Mumbai Angels Network    12     2\n",
       "2            Angel investors    12     3\n",
       "3  Inflection Point Ventures    11     4\n",
       "4                Undisclosed    10     5"
      ]
     },
     "execution_count": 16,
     "metadata": {},
     "output_type": "execute_result"
    }
   ],
   "source": [
    "#Creating a rank column \n",
    "fnd_2020[\"rank\"] = fnd_2020.index+1\n",
    "fnd_2020.head()"
   ]
  },
  {
   "cell_type": "code",
   "execution_count": 17,
   "id": "ce795331",
   "metadata": {},
   "outputs": [
    {
     "data": {
      "text/html": [
       "<div>\n",
       "<style scoped>\n",
       "    .dataframe tbody tr th:only-of-type {\n",
       "        vertical-align: middle;\n",
       "    }\n",
       "\n",
       "    .dataframe tbody tr th {\n",
       "        vertical-align: top;\n",
       "    }\n",
       "\n",
       "    .dataframe thead th {\n",
       "        text-align: right;\n",
       "    }\n",
       "</style>\n",
       "<table border=\"1\" class=\"dataframe\">\n",
       "  <thead>\n",
       "    <tr style=\"text-align: right;\">\n",
       "      <th></th>\n",
       "      <th>Investor</th>\n",
       "      <th>size</th>\n",
       "      <th>rank</th>\n",
       "    </tr>\n",
       "  </thead>\n",
       "  <tbody>\n",
       "    <tr>\n",
       "      <th>3</th>\n",
       "      <td>Inflection Point Ventures</td>\n",
       "      <td>11</td>\n",
       "      <td>4</td>\n",
       "    </tr>\n",
       "  </tbody>\n",
       "</table>\n",
       "</div>"
      ],
      "text/plain": [
       "                    Investor  size  rank\n",
       "3  Inflection Point Ventures    11     4"
      ]
     },
     "execution_count": 17,
     "metadata": {},
     "output_type": "execute_result"
    }
   ],
   "source": [
    "#localize our investor\n",
    "fnd_2020[fnd_2020[\"Investor\"]==\"Inflection Point Ventures\"]"
   ]
  },
  {
   "cell_type": "markdown",
   "id": "1fd4b832",
   "metadata": {},
   "source": [
    "### 3. Merging the data"
   ]
  },
  {
   "cell_type": "markdown",
   "id": "9e1ebfb8-ee7b-428d-8075-ba8ea6c9f63a",
   "metadata": {},
   "source": [
    "We have some information, but i want to have more, expecially I'm interested in Salaries, yes, i like money! The dataset name is `Software Professionals Salary.csv` and you will find it in the `data` folder of this repository. At [this link](https://www.kaggle.com/datasets/iamsouravbanerjee/software-professional-salaries-2022?search=salary) you can find the source of the data (Kaggle) as well as more information on its composition. "
   ]
  },
  {
   "cell_type": "code",
   "execution_count": 18,
   "id": "594dbaa6-906b-4041-9943-148927b5750a",
   "metadata": {},
   "outputs": [],
   "source": [
    "#Load the `Software Professionals Salary.csv` file in a DataFrame\n",
    "sps = pd.read_csv(\"data/Software Professionals Salary.csv\", sep=\",\")"
   ]
  },
  {
   "cell_type": "code",
   "execution_count": 19,
   "id": "0d63b7db",
   "metadata": {},
   "outputs": [
    {
     "data": {
      "text/html": [
       "<div>\n",
       "<style scoped>\n",
       "    .dataframe tbody tr th:only-of-type {\n",
       "        vertical-align: middle;\n",
       "    }\n",
       "\n",
       "    .dataframe tbody tr th {\n",
       "        vertical-align: top;\n",
       "    }\n",
       "\n",
       "    .dataframe thead th {\n",
       "        text-align: right;\n",
       "    }\n",
       "</style>\n",
       "<table border=\"1\" class=\"dataframe\">\n",
       "  <thead>\n",
       "    <tr style=\"text-align: right;\">\n",
       "      <th></th>\n",
       "      <th>Location</th>\n",
       "      <th>Rating</th>\n",
       "      <th>Salary</th>\n",
       "    </tr>\n",
       "  </thead>\n",
       "  <tbody>\n",
       "    <tr>\n",
       "      <th>0</th>\n",
       "      <td>Bangalore</td>\n",
       "      <td>3.920232</td>\n",
       "      <td>735344.739593</td>\n",
       "    </tr>\n",
       "    <tr>\n",
       "      <th>1</th>\n",
       "      <td>Chennai</td>\n",
       "      <td>3.902726</td>\n",
       "      <td>584559.661513</td>\n",
       "    </tr>\n",
       "    <tr>\n",
       "      <th>2</th>\n",
       "      <td>Hyderabad</td>\n",
       "      <td>3.914484</td>\n",
       "      <td>679099.157376</td>\n",
       "    </tr>\n",
       "    <tr>\n",
       "      <th>3</th>\n",
       "      <td>Jaipur</td>\n",
       "      <td>3.940741</td>\n",
       "      <td>629135.802469</td>\n",
       "    </tr>\n",
       "    <tr>\n",
       "      <th>4</th>\n",
       "      <td>Kerala</td>\n",
       "      <td>3.885185</td>\n",
       "      <td>553577.481481</td>\n",
       "    </tr>\n",
       "  </tbody>\n",
       "</table>\n",
       "</div>"
      ],
      "text/plain": [
       "    Location    Rating         Salary\n",
       "0  Bangalore  3.920232  735344.739593\n",
       "1    Chennai  3.902726  584559.661513\n",
       "2  Hyderabad  3.914484  679099.157376\n",
       "3     Jaipur  3.940741  629135.802469\n",
       "4     Kerala  3.885185  553577.481481"
      ]
     },
     "execution_count": 19,
     "metadata": {},
     "output_type": "execute_result"
    }
   ],
   "source": [
    "#starting from the `sps` DataFrame, i create a new DF called `sps_loc` where i can group by `Location` and show, for each city in the dataset, the average `Rating` and `Salary`;\n",
    "sps_loc = sps.groupby(\"Location\")[[\"Rating\",\"Salary\"]].mean()\n",
    "sps_loc = sps_loc.reset_index()\n",
    "sps_loc.head()"
   ]
  },
  {
   "cell_type": "code",
   "execution_count": 21,
   "id": "1d127a8b",
   "metadata": {},
   "outputs": [
    {
     "data": {
      "text/html": [
       "<div>\n",
       "<style scoped>\n",
       "    .dataframe tbody tr th:only-of-type {\n",
       "        vertical-align: middle;\n",
       "    }\n",
       "\n",
       "    .dataframe tbody tr th {\n",
       "        vertical-align: top;\n",
       "    }\n",
       "\n",
       "    .dataframe thead th {\n",
       "        text-align: right;\n",
       "    }\n",
       "</style>\n",
       "<table border=\"1\" class=\"dataframe\">\n",
       "  <thead>\n",
       "    <tr style=\"text-align: right;\">\n",
       "      <th></th>\n",
       "      <th>HeadQuarter</th>\n",
       "      <th>Company/Brand</th>\n",
       "      <th>Amount($)</th>\n",
       "    </tr>\n",
       "  </thead>\n",
       "  <tbody>\n",
       "    <tr>\n",
       "      <th>0</th>\n",
       "      <td>Ahmadabad</td>\n",
       "      <td>6</td>\n",
       "      <td>4.300000e+06</td>\n",
       "    </tr>\n",
       "    <tr>\n",
       "      <th>1</th>\n",
       "      <td>Ahmedabad</td>\n",
       "      <td>11</td>\n",
       "      <td>1.981550e+08</td>\n",
       "    </tr>\n",
       "    <tr>\n",
       "      <th>2</th>\n",
       "      <td>Ambernath</td>\n",
       "      <td>1</td>\n",
       "      <td>0.000000e+00</td>\n",
       "    </tr>\n",
       "    <tr>\n",
       "      <th>3</th>\n",
       "      <td>Andheri</td>\n",
       "      <td>1</td>\n",
       "      <td>0.000000e+00</td>\n",
       "    </tr>\n",
       "    <tr>\n",
       "      <th>4</th>\n",
       "      <td>Bangalore</td>\n",
       "      <td>425</td>\n",
       "      <td>1.432742e+10</td>\n",
       "    </tr>\n",
       "  </tbody>\n",
       "</table>\n",
       "</div>"
      ],
      "text/plain": [
       "  HeadQuarter  Company/Brand     Amount($)\n",
       "0   Ahmadabad              6  4.300000e+06\n",
       "1   Ahmedabad             11  1.981550e+08\n",
       "2   Ambernath              1  0.000000e+00\n",
       "3     Andheri              1  0.000000e+00\n",
       "4   Bangalore            425  1.432742e+10"
      ]
     },
     "execution_count": 21,
     "metadata": {},
     "output_type": "execute_result"
    }
   ],
   "source": [
    "#starting from the `fnd` DataFrame, we can also create a new DF called `fnd_loc` where we group by `HeadQuarter` and show, for each city in the dataset, for the year 2021, the total number of `Company/Brand`s funded and the total `Amount($)` invested;\n",
    "fnd_2021 = fnd[fnd['year'] == 2021]\n",
    "fnd_loc = fnd_2021.groupby('HeadQuarter').agg({\n",
    "    'Company/Brand': 'count',\n",
    "    'Amount($)': 'sum'\n",
    "}).reset_index()\n",
    "fnd_loc.head()"
   ]
  },
  {
   "cell_type": "code",
   "execution_count": 741,
   "id": "40115eaa",
   "metadata": {},
   "outputs": [
    {
     "name": "stdout",
     "output_type": "stream",
     "text": [
      "<class 'pandas.core.frame.DataFrame'>\n",
      "Int64Index: 8 entries, 0 to 7\n",
      "Data columns (total 6 columns):\n",
      " #   Column         Non-Null Count  Dtype  \n",
      "---  ------         --------------  -----  \n",
      " 0   Location       8 non-null      object \n",
      " 1   Rating         8 non-null      float64\n",
      " 2   Salary         8 non-null      float64\n",
      " 3   HeadQuarter    8 non-null      object \n",
      " 4   Company/Brand  8 non-null      int64  \n",
      " 5   Amount($)      8 non-null      float64\n",
      "dtypes: float64(3), int64(1), object(2)\n",
      "memory usage: 448.0+ bytes\n"
     ]
    }
   ],
   "source": [
    "# Now we merge the two DataFrames so to **keep just the cities that are in both datasets** and save the results in a third DataFrame called `sps_fnd_loc`\n",
    "sps_fnd_loc = pd.merge(sps_loc, fnd_loc, left_on=\"Location\", right_on=\"HeadQuarter\", how=\"inner\")\n",
    "sps_fnd_loc.info()"
   ]
  },
  {
   "cell_type": "code",
   "execution_count": 742,
   "id": "bb1b5050",
   "metadata": {},
   "outputs": [
    {
     "data": {
      "text/html": [
       "<div>\n",
       "<style scoped>\n",
       "    .dataframe tbody tr th:only-of-type {\n",
       "        vertical-align: middle;\n",
       "    }\n",
       "\n",
       "    .dataframe tbody tr th {\n",
       "        vertical-align: top;\n",
       "    }\n",
       "\n",
       "    .dataframe thead th {\n",
       "        text-align: right;\n",
       "    }\n",
       "</style>\n",
       "<table border=\"1\" class=\"dataframe\">\n",
       "  <thead>\n",
       "    <tr style=\"text-align: right;\">\n",
       "      <th></th>\n",
       "      <th>City</th>\n",
       "      <th>Avg. Rating</th>\n",
       "      <th>Avg. Salary</th>\n",
       "      <th>Nr. Companies Funded</th>\n",
       "      <th>Sum Funding ($MM)</th>\n",
       "    </tr>\n",
       "  </thead>\n",
       "  <tbody>\n",
       "    <tr>\n",
       "      <th>0</th>\n",
       "      <td>Bangalore</td>\n",
       "      <td>3.920232</td>\n",
       "      <td>735344.739593</td>\n",
       "      <td>425</td>\n",
       "      <td>14327.42</td>\n",
       "    </tr>\n",
       "    <tr>\n",
       "      <th>1</th>\n",
       "      <td>Chennai</td>\n",
       "      <td>3.902726</td>\n",
       "      <td>584559.661513</td>\n",
       "      <td>40</td>\n",
       "      <td>717.14</td>\n",
       "    </tr>\n",
       "    <tr>\n",
       "      <th>2</th>\n",
       "      <td>Hyderabad</td>\n",
       "      <td>3.914484</td>\n",
       "      <td>679099.157376</td>\n",
       "      <td>34</td>\n",
       "      <td>243.96</td>\n",
       "    </tr>\n",
       "    <tr>\n",
       "      <th>3</th>\n",
       "      <td>Jaipur</td>\n",
       "      <td>3.940741</td>\n",
       "      <td>629135.802469</td>\n",
       "      <td>11</td>\n",
       "      <td>343.30</td>\n",
       "    </tr>\n",
       "    <tr>\n",
       "      <th>4</th>\n",
       "      <td>Kolkata</td>\n",
       "      <td>4.024719</td>\n",
       "      <td>710925.573034</td>\n",
       "      <td>5</td>\n",
       "      <td>28.00</td>\n",
       "    </tr>\n",
       "  </tbody>\n",
       "</table>\n",
       "</div>"
      ],
      "text/plain": [
       "        City  Avg. Rating    Avg. Salary  Nr. Companies Funded  \\\n",
       "0  Bangalore     3.920232  735344.739593                   425   \n",
       "1    Chennai     3.902726  584559.661513                    40   \n",
       "2  Hyderabad     3.914484  679099.157376                    34   \n",
       "3     Jaipur     3.940741  629135.802469                    11   \n",
       "4    Kolkata     4.024719  710925.573034                     5   \n",
       "\n",
       "   Sum Funding ($MM)  \n",
       "0           14327.42  \n",
       "1             717.14  \n",
       "2             243.96  \n",
       "3             343.30  \n",
       "4              28.00  "
      ]
     },
     "execution_count": 742,
     "metadata": {},
     "output_type": "execute_result"
    }
   ],
   "source": [
    "    #using the `sps_fnd_loc` DataFrame: \n",
    "       # 1. delete the `HeadQuarter` column\n",
    "del sps_fnd_loc['HeadQuarter']\n",
    "       # 2. create a new column `Amount($MM)` that is equal to `Amount($)` divided by 1,000,000\n",
    "sps_fnd_loc['Amount($MM)'] = sps_fnd_loc['Amount($)'] / 1000000       \n",
    "       # 3. delete the `Amount($)` column\n",
    "del sps_fnd_loc[\"Amount($)\"]\n",
    "       # 4. rename all the columns to the following names: `['City', 'Avg. Rating', 'Avg. Salary', 'Nr. Companies Funded', 'Sum Funding ($MM)']`\n",
    "sps_fnd_loc = sps_fnd_loc.rename(columns={\n",
    "    'Location': 'City',\n",
    "    'Rating': 'Avg. Rating',\n",
    "    'Salary': 'Avg. Salary',\n",
    "    'Company/Brand': 'Nr. Companies Funded',\n",
    "    'Amount($MM)': 'Sum Funding ($MM)'\n",
    "})\n",
    "sps_fnd_loc.head()"
   ]
  },
  {
   "cell_type": "code",
   "execution_count": 743,
   "id": "2e55b47a",
   "metadata": {},
   "outputs": [
    {
     "data": {
      "text/html": [
       "<div>\n",
       "<style scoped>\n",
       "    .dataframe tbody tr th:only-of-type {\n",
       "        vertical-align: middle;\n",
       "    }\n",
       "\n",
       "    .dataframe tbody tr th {\n",
       "        vertical-align: top;\n",
       "    }\n",
       "\n",
       "    .dataframe thead th {\n",
       "        text-align: right;\n",
       "    }\n",
       "</style>\n",
       "<table border=\"1\" class=\"dataframe\">\n",
       "  <thead>\n",
       "    <tr style=\"text-align: right;\">\n",
       "      <th></th>\n",
       "      <th>City</th>\n",
       "      <th>Avg. Rating</th>\n",
       "      <th>Avg. Salary</th>\n",
       "      <th>Nr. Companies Funded</th>\n",
       "      <th>Sum Funding ($MM)</th>\n",
       "    </tr>\n",
       "  </thead>\n",
       "  <tbody>\n",
       "    <tr>\n",
       "      <th>4</th>\n",
       "      <td>Kolkata</td>\n",
       "      <td>4.024719</td>\n",
       "      <td>710925.573034</td>\n",
       "      <td>5</td>\n",
       "      <td>28.00</td>\n",
       "    </tr>\n",
       "    <tr>\n",
       "      <th>6</th>\n",
       "      <td>New Delhi</td>\n",
       "      <td>3.943415</td>\n",
       "      <td>658756.735632</td>\n",
       "      <td>143</td>\n",
       "      <td>1673.01</td>\n",
       "    </tr>\n",
       "    <tr>\n",
       "      <th>3</th>\n",
       "      <td>Jaipur</td>\n",
       "      <td>3.940741</td>\n",
       "      <td>629135.802469</td>\n",
       "      <td>11</td>\n",
       "      <td>343.30</td>\n",
       "    </tr>\n",
       "    <tr>\n",
       "      <th>0</th>\n",
       "      <td>Bangalore</td>\n",
       "      <td>3.920232</td>\n",
       "      <td>735344.739593</td>\n",
       "      <td>425</td>\n",
       "      <td>14327.42</td>\n",
       "    </tr>\n",
       "    <tr>\n",
       "      <th>2</th>\n",
       "      <td>Hyderabad</td>\n",
       "      <td>3.914484</td>\n",
       "      <td>679099.157376</td>\n",
       "      <td>34</td>\n",
       "      <td>243.96</td>\n",
       "    </tr>\n",
       "    <tr>\n",
       "      <th>1</th>\n",
       "      <td>Chennai</td>\n",
       "      <td>3.902726</td>\n",
       "      <td>584559.661513</td>\n",
       "      <td>40</td>\n",
       "      <td>717.14</td>\n",
       "    </tr>\n",
       "    <tr>\n",
       "      <th>7</th>\n",
       "      <td>Pune</td>\n",
       "      <td>3.886082</td>\n",
       "      <td>690476.311153</td>\n",
       "      <td>46</td>\n",
       "      <td>509.07</td>\n",
       "    </tr>\n",
       "    <tr>\n",
       "      <th>5</th>\n",
       "      <td>Mumbai</td>\n",
       "      <td>3.881709</td>\n",
       "      <td>961180.368491</td>\n",
       "      <td>200</td>\n",
       "      <td>153830.30</td>\n",
       "    </tr>\n",
       "  </tbody>\n",
       "</table>\n",
       "</div>"
      ],
      "text/plain": [
       "        City  Avg. Rating    Avg. Salary  Nr. Companies Funded  \\\n",
       "4    Kolkata     4.024719  710925.573034                     5   \n",
       "6  New Delhi     3.943415  658756.735632                   143   \n",
       "3     Jaipur     3.940741  629135.802469                    11   \n",
       "0  Bangalore     3.920232  735344.739593                   425   \n",
       "2  Hyderabad     3.914484  679099.157376                    34   \n",
       "1    Chennai     3.902726  584559.661513                    40   \n",
       "7       Pune     3.886082  690476.311153                    46   \n",
       "5     Mumbai     3.881709  961180.368491                   200   \n",
       "\n",
       "   Sum Funding ($MM)  \n",
       "4              28.00  \n",
       "6            1673.01  \n",
       "3             343.30  \n",
       "0           14327.42  \n",
       "2             243.96  \n",
       "1             717.14  \n",
       "7             509.07  \n",
       "5          153830.30  "
      ]
     },
     "execution_count": 743,
     "metadata": {},
     "output_type": "execute_result"
    }
   ],
   "source": [
    " #  let's see the \"City\" that received the \"highest\" \"Avg. Rating\" score by employees, this way we can see avg. Salary, Companies funded and funding received\n",
    "sps_fnd_loc.sort_values(\"Avg. Rating\", ascending=False)\n"
   ]
  },
  {
   "cell_type": "markdown",
   "id": "a7dcfa1d-2439-4f63-bd15-abf5e7398a2e",
   "metadata": {},
   "source": [
    "To give a visualization of our data we can create a scatterplot that shows the relationship between the *Avg. Salary* and the *Sum Funding ($MM)*. "
   ]
  },
  {
   "cell_type": "code",
   "execution_count": 744,
   "id": "e046b4cb-b783-455c-9a39-7fddc33b1119",
   "metadata": {},
   "outputs": [
    {
     "data": {
      "text/plain": [
       "<AxesSubplot: xlabel='Avg. Salary', ylabel='Sum Funding ($MM)'>"
      ]
     },
     "execution_count": 744,
     "metadata": {},
     "output_type": "execute_result"
    },
    {
     "data": {
      "image/png": "[encoded data removed]",
      "text/plain": [
       "<Figure size 640x480 with 1 Axes>"
      ]
     },
     "metadata": {},
     "output_type": "display_data"
    }
   ],
   "source": [
    "sns.scatterplot(x=\"Avg. Salary\", y=\"Sum Funding ($MM)\", hue=\"City\", data=sps_fnd_loc)\n"
   ]
  },
  {
   "cell_type": "markdown",
   "id": "22b60e3f",
   "metadata": {},
   "source": [
    "we can see that Mumbaistands out in terms of total funding received by companies and salary paid to their employees"
   ]
  },
  {
   "cell_type": "markdown",
   "id": "0ed16416",
   "metadata": {},
   "source": [
    "### 4. Web Scraping"
   ]
  },
  {
   "cell_type": "markdown",
   "id": "40deb346-babe-4dcb-81e2-6fc4d73acb2b",
   "metadata": {},
   "source": [
    "Scraping [this census page](https://www.census2011.co.in/city.php) we can create a DataFrame called `cities` containing the first table from that page. "
   ]
  },
  {
   "cell_type": "code",
   "execution_count": 745,
   "id": "8b76fb1a-19bd-450b-9f77-8b0e05fc3009",
   "metadata": {},
   "outputs": [],
   "source": [
    "#Request\n",
    "url = \"https://www.census2011.co.in/city.php\"\n",
    "page = requests.get(url)\n",
    "\n",
    "#HTML Parsing\n",
    "soup = BeautifulSoup(page.content, \"html.parser\")\n",
    "\n",
    "#table extraction\n",
    "table = soup.find(\"table\")\n",
    "\n",
    "#columns extraction\n",
    "thead = []\n",
    "for th in table.find_all('th'):\n",
    "     thead_tmp = th.text.strip()\n",
    "     thead.append(thead_tmp)\n",
    "\n",
    "#data extraction\n",
    "trows = []\n",
    "for tr in table.find_all('tr'):\n",
    "     trows.append([td.text.strip() for td in tr.find_all('td')])\n",
    "\n",
    "#dataframe creation\n",
    "\n",
    "cities = pd.DataFrame(trows, columns=thead)"
   ]
  },
  {
   "cell_type": "code",
   "execution_count": 746,
   "id": "3112a4ac",
   "metadata": {},
   "outputs": [],
   "source": [
    "#DF cleaning\n",
    "del cities['#']\n",
    "cities = cities.drop(cities.index[0])"
   ]
  },
  {
   "cell_type": "code",
   "execution_count": 747,
   "id": "4e77dd7e",
   "metadata": {},
   "outputs": [
    {
     "data": {
      "text/html": [
       "<div>\n",
       "<style scoped>\n",
       "    .dataframe tbody tr th:only-of-type {\n",
       "        vertical-align: middle;\n",
       "    }\n",
       "\n",
       "    .dataframe tbody tr th {\n",
       "        vertical-align: top;\n",
       "    }\n",
       "\n",
       "    .dataframe thead th {\n",
       "        text-align: right;\n",
       "    }\n",
       "</style>\n",
       "<table border=\"1\" class=\"dataframe\">\n",
       "  <thead>\n",
       "    <tr style=\"text-align: right;\">\n",
       "      <th></th>\n",
       "      <th>City</th>\n",
       "      <th>State</th>\n",
       "      <th>Population</th>\n",
       "      <th>Metropolitan</th>\n",
       "      <th>Sexratio</th>\n",
       "      <th>Literacy</th>\n",
       "    </tr>\n",
       "  </thead>\n",
       "  <tbody>\n",
       "    <tr>\n",
       "      <th>1</th>\n",
       "      <td>Mumbai</td>\n",
       "      <td>Maharashtra</td>\n",
       "      <td>12,442,373</td>\n",
       "      <td>18,414,288</td>\n",
       "      <td>853</td>\n",
       "      <td>89.73</td>\n",
       "    </tr>\n",
       "    <tr>\n",
       "      <th>2</th>\n",
       "      <td>Delhi</td>\n",
       "      <td>Delhi</td>\n",
       "      <td>11,034,555</td>\n",
       "      <td>16,314,838</td>\n",
       "      <td>876</td>\n",
       "      <td>87.59</td>\n",
       "    </tr>\n",
       "    <tr>\n",
       "      <th>3</th>\n",
       "      <td>Bangalore</td>\n",
       "      <td>Karnataka</td>\n",
       "      <td>8,443,675</td>\n",
       "      <td>8,499,399</td>\n",
       "      <td>923</td>\n",
       "      <td>88.71</td>\n",
       "    </tr>\n",
       "    <tr>\n",
       "      <th>4</th>\n",
       "      <td>Hyderabad</td>\n",
       "      <td>Andhra Pradesh</td>\n",
       "      <td>6,731,790</td>\n",
       "      <td>7,749,334</td>\n",
       "      <td>955</td>\n",
       "      <td>83.26</td>\n",
       "    </tr>\n",
       "    <tr>\n",
       "      <th>5</th>\n",
       "      <td>Ahmedabad</td>\n",
       "      <td>Gujarat</td>\n",
       "      <td>5,577,940</td>\n",
       "      <td>6,352,254</td>\n",
       "      <td>898</td>\n",
       "      <td>88.29</td>\n",
       "    </tr>\n",
       "  </tbody>\n",
       "</table>\n",
       "</div>"
      ],
      "text/plain": [
       "        City           State  Population Metropolitan Sexratio Literacy\n",
       "1     Mumbai     Maharashtra  12,442,373   18,414,288      853    89.73\n",
       "2      Delhi           Delhi  11,034,555   16,314,838      876    87.59\n",
       "3  Bangalore       Karnataka   8,443,675    8,499,399      923    88.71\n",
       "4  Hyderabad  Andhra Pradesh   6,731,790    7,749,334      955    83.26\n",
       "5  Ahmedabad         Gujarat   5,577,940    6,352,254      898    88.29"
      ]
     },
     "execution_count": 747,
     "metadata": {},
     "output_type": "execute_result"
    }
   ],
   "source": [
    "cities.head()"
   ]
  },
  {
   "cell_type": "code",
   "execution_count": 748,
   "id": "f5407300",
   "metadata": {},
   "outputs": [
    {
     "name": "stdout",
     "output_type": "stream",
     "text": [
      "<class 'pandas.core.frame.DataFrame'>\n",
      "RangeIndex: 498 entries, 1 to 498\n",
      "Data columns (total 6 columns):\n",
      " #   Column        Non-Null Count  Dtype  \n",
      "---  ------        --------------  -----  \n",
      " 0   City          498 non-null    object \n",
      " 1   State         498 non-null    object \n",
      " 2   Population    498 non-null    float64\n",
      " 3   Metropolitan  498 non-null    object \n",
      " 4   Sexratio      498 non-null    object \n",
      " 5   Literacy      498 non-null    float64\n",
      "dtypes: float64(2), object(4)\n",
      "memory usage: 23.5+ KB\n"
     ]
    }
   ],
   "source": [
    "#Changing population and literacy to numeric\n",
    "cities[\"Population\"] = cities[\"Population\"].str.replace(\",\",\"\").astype(\"float\")\n",
    "cities['Literacy'] =cities['Literacy'].str.replace(\",\",\"\").astype(\"float\")\n",
    "cities.info()"
   ]
  },
  {
   "cell_type": "code",
   "execution_count": 749,
   "id": "8c086be7",
   "metadata": {},
   "outputs": [
    {
     "data": {
      "text/html": [
       "<div>\n",
       "<style scoped>\n",
       "    .dataframe tbody tr th:only-of-type {\n",
       "        vertical-align: middle;\n",
       "    }\n",
       "\n",
       "    .dataframe tbody tr th {\n",
       "        vertical-align: top;\n",
       "    }\n",
       "\n",
       "    .dataframe thead th {\n",
       "        text-align: right;\n",
       "    }\n",
       "</style>\n",
       "<table border=\"1\" class=\"dataframe\">\n",
       "  <thead>\n",
       "    <tr style=\"text-align: right;\">\n",
       "      <th></th>\n",
       "      <th>City</th>\n",
       "      <th>State</th>\n",
       "      <th>Population</th>\n",
       "      <th>Metropolitan</th>\n",
       "      <th>Sexratio</th>\n",
       "      <th>Literacy</th>\n",
       "    </tr>\n",
       "  </thead>\n",
       "  <tbody>\n",
       "    <tr>\n",
       "      <th>151</th>\n",
       "      <td>Aizawl</td>\n",
       "      <td>Mizoram</td>\n",
       "      <td>293416.0</td>\n",
       "      <td>293,416</td>\n",
       "      <td>1025</td>\n",
       "      <td>98.36</td>\n",
       "    </tr>\n",
       "  </tbody>\n",
       "</table>\n",
       "</div>"
      ],
      "text/plain": [
       "       City    State  Population Metropolitan Sexratio  Literacy\n",
       "151  Aizawl  Mizoram    293416.0      293,416     1025     98.36"
      ]
     },
     "execution_count": 749,
     "metadata": {},
     "output_type": "execute_result"
    }
   ],
   "source": [
    "#Let's check which City has the highest levels of `Literacy` in the country?\n",
    "\n",
    "cities.sort_values(\"Literacy\", ascending=False).head(1)\n",
    "\n"
   ]
  },
  {
   "cell_type": "code",
   "execution_count": 750,
   "id": "8453f2bf",
   "metadata": {},
   "outputs": [
    {
     "name": "stdout",
     "output_type": "stream",
     "text": [
      "<class 'pandas.core.frame.DataFrame'>\n",
      "Int64Index: 7 entries, 0 to 6\n",
      "Data columns (total 10 columns):\n",
      " #   Column                Non-Null Count  Dtype  \n",
      "---  ------                --------------  -----  \n",
      " 0   City                  7 non-null      object \n",
      " 1   Avg. Rating           7 non-null      float64\n",
      " 2   Avg. Salary           7 non-null      float64\n",
      " 3   Nr. Companies Funded  7 non-null      int64  \n",
      " 4   Sum Funding ($MM)     7 non-null      float64\n",
      " 5   State                 7 non-null      object \n",
      " 6   Population            7 non-null      float64\n",
      " 7   Metropolitan          7 non-null      object \n",
      " 8   Sexratio              7 non-null      object \n",
      " 9   Literacy              7 non-null      float64\n",
      "dtypes: float64(5), int64(1), object(4)\n",
      "memory usage: 616.0+ bytes\n"
     ]
    }
   ],
   "source": [
    "# Now we merge the `cities` table with the `sps_fnd_loc` in a new DataFrame called `sps_fnd_loc_lit`.  \n",
    "sps_fnd_loc_lit = sps_fnd_loc.merge(cities, on='City', how='inner')\n",
    "sps_fnd_loc_lit.info()"
   ]
  },
  {
   "cell_type": "code",
   "execution_count": 751,
   "id": "7e107da6",
   "metadata": {},
   "outputs": [
    {
     "data": {
      "text/plain": [
       "{'New Delhi'}"
      ]
     },
     "execution_count": 751,
     "metadata": {},
     "output_type": "execute_result"
    }
   ],
   "source": [
    "#the resulting DataFrame is missing one row compared to the `sps_fnd_loc` dataset.\n",
    "#We create two set with cities and \"deduct\" the first from the second so that we can identify the missing city\n",
    "set1= set(sps_fnd_loc['City'])\n",
    "set2 = set(cities['City'])\n",
    "\n",
    "missing_city = set1 - set2\n",
    "missing_city"
   ]
  },
  {
   "cell_type": "code",
   "execution_count": 752,
   "id": "5eedd11f",
   "metadata": {},
   "outputs": [
    {
     "data": {
      "text/plain": [
       "array(['Bangalore', 'Chennai', 'Hyderabad', 'Jaipur', 'Kolkata', 'Mumbai',\n",
       "       'New Delhi', 'Pune'], dtype=object)"
      ]
     },
     "execution_count": 752,
     "metadata": {},
     "output_type": "execute_result"
    }
   ],
   "source": [
    "#the missing city is New Delhi, now we have to check why\n",
    "\n",
    "sps_fnd_loc[\"City\"].unique()"
   ]
  },
  {
   "cell_type": "code",
   "execution_count": 753,
   "id": "6b78b683",
   "metadata": {},
   "outputs": [
    {
     "data": {
      "text/plain": [
       "array(['Delhi', 'Delhi Cantonment'], dtype=object)"
      ]
     },
     "execution_count": 753,
     "metadata": {},
     "output_type": "execute_result"
    }
   ],
   "source": [
    "cities[\"City\"][cities[\"City\"].str.contains('Delhi')].unique()\n"
   ]
  },
  {
   "cell_type": "code",
   "execution_count": 754,
   "id": "369b1cb8",
   "metadata": {},
   "outputs": [
    {
     "name": "stdout",
     "output_type": "stream",
     "text": [
      "<class 'pandas.core.frame.DataFrame'>\n",
      "Int64Index: 8 entries, 0 to 7\n",
      "Data columns (total 10 columns):\n",
      " #   Column                Non-Null Count  Dtype  \n",
      "---  ------                --------------  -----  \n",
      " 0   City                  8 non-null      object \n",
      " 1   Avg. Rating           8 non-null      float64\n",
      " 2   Avg. Salary           8 non-null      float64\n",
      " 3   Nr. Companies Funded  8 non-null      int64  \n",
      " 4   Sum Funding ($MM)     8 non-null      float64\n",
      " 5   State                 7 non-null      object \n",
      " 6   Population            7 non-null      float64\n",
      " 7   Metropolitan          7 non-null      object \n",
      " 8   Sexratio              7 non-null      object \n",
      " 9   Literacy              7 non-null      float64\n",
      "dtypes: float64(5), int64(1), object(4)\n",
      "memory usage: 704.0+ bytes\n"
     ]
    }
   ],
   "source": [
    "#In the dataset, new delhi is name just as Dehli, we edit the name in the df cities and merge again\n",
    "cities.loc[\"Delhi\", \"City\"] = \"New Delhi\"\n",
    "sps_fnd_loc_lit = sps_fnd_loc.merge(cities, on='City', how='inner')\n",
    "sps_fnd_loc_lit.info()\n"
   ]
  },
  {
   "cell_type": "code",
   "execution_count": 755,
   "id": "a18e608d",
   "metadata": {},
   "outputs": [
    {
     "data": {
      "text/plain": [
       "<AxesSubplot: xlabel='Literacy', ylabel='Avg. Salary'>"
      ]
     },
     "execution_count": 755,
     "metadata": {},
     "output_type": "execute_result"
    },
    {
     "data": {
      "image/png": "[encoded data removed]",
      "text/plain": [
       "<Figure size 640x480 with 1 Axes>"
      ]
     },
     "metadata": {},
     "output_type": "display_data"
    }
   ],
   "source": [
    "# Looking at the new `sps_fnd_loc_lit` DataFrame, now we can produce a scatterplot that shows `Literacy` on the x-axis, `Avg. Salary` on the y-axis and the `Population` as the size of the circles. \n",
    "\n",
    "sns.scatterplot(x=\"Literacy\", y=\"Avg. Salary\", size=\"Population\", hue=\"City\", data=sps_fnd_loc_lit)\n"
   ]
  },
  {
   "attachments": {},
   "cell_type": "markdown",
   "id": "7b2cd9ee",
   "metadata": {},
   "source": [
    "As can be seen from the graphs, the city of Chennai despite the high level of Literacy has an avg. Lower salary than cities with lower Literacy level.\n",
    "The difference with Mumbai stands out widely, which despite a slightly lower level of literacy has significantly higher average salaries\n",
    "a possible explanation could come from the comparison with the amount of \"financing\" received, Mumbai would therefore represent a place where a lot is invested, consequently also increasing average salaries, which is different for Chennai where investments have been almost zero."
   ]
  },
  {
   "cell_type": "markdown",
   "id": "b2da3870",
   "metadata": {},
   "source": []
  }
 ],
 "metadata": {
  "kernelspec": {
   "display_name": "boolean",
   "language": "python",
   "name": "python3"
  },
  "language_info": {
   "codemirror_mode": {
    "name": "ipython",
    "version": 3
   },
   "file_extension": ".py",
   "mimetype": "text/x-python",
   "name": "python",
   "nbconvert_exporter": "python",
   "pygments_lexer": "ipython3",
   "version": "3.9.16"
  },
  "vscode": {
   "interpreter": {
    "hash": "7d36c5d305edcb6e036a53213bc67fb64c254717583ecf49f064dba085c2c818"
   }
  }
 },
 "nbformat": 4,
 "nbformat_minor": 5
}
